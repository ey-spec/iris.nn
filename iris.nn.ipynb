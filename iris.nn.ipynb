{
 "cells": [
  {
   "cell_type": "code",
   "execution_count": 18,
   "id": "6de9080c",
   "metadata": {},
   "outputs": [],
   "source": [
    "import numpy as np\n",
    "import pandas as pd\n",
    "from sklearn.datasets import load_iris\n",
    "from sklearn.model_selection import train_test_split\n",
    "from sklearn.preprocessing import OneHotEncoder, StandardScaler\n",
    "\n",
    "\n",
    "iris = load_iris()\n",
    "X = iris.data             \n",
    "y = iris.target.reshape(-1, 1)  \n",
    "\n",
    "scaler = StandardScaler()\n",
    "X_scaled = scaler.fit_transform(X)\n",
    "\n",
    "encoder = OneHotEncoder(sparse_output=False)\n",
    "y_encoded = encoder.fit_transform(y)\n",
    "\n",
    "X_train, X_test, y_train, y_test = train_test_split(X_scaled, y_encoded, test_size=0.2, random_state=42)\n"
   ]
  },
  {
   "cell_type": "code",
   "execution_count": 19,
   "id": "eeef7c9f",
   "metadata": {},
   "outputs": [],
   "source": [
    "\n",
    "input_size = 4\n",
    "hidden_size = 6\n",
    "output_size = 3\n",
    "\n",
    "\n",
    "np.random.seed(42)\n",
    "W1 = np.random.randn(input_size, hidden_size)\n",
    "b1 = np.zeros((1, hidden_size))\n",
    "W2 = np.random.randn(hidden_size, output_size)\n",
    "b2 = np.zeros((1, output_size))\n"
   ]
  },
  {
   "cell_type": "code",
   "execution_count": 20,
   "id": "e7071028",
   "metadata": {},
   "outputs": [],
   "source": [
    "\n",
    "def relu(x):\n",
    "    return np.maximum(0, x)\n",
    "\n",
    "def relu_derivative(x):\n",
    "    return (x > 0).astype(float)\n",
    "\n",
    "def softmax(x):\n",
    "    exp_x = np.exp(x - np.max(x, axis=1, keepdims=True)) \n",
    "    return exp_x / np.sum(exp_x, axis=1, keepdims=True)\n"
   ]
  },
  {
   "cell_type": "code",
   "execution_count": 21,
   "id": "7854e241",
   "metadata": {},
   "outputs": [],
   "source": [
    "def forward(X):\n",
    "    z1 = np.dot(X, W1) + b1\n",
    "    a1 = relu(z1)\n",
    "    z2 = np.dot(a1, W2) + b2\n",
    "    a2 = softmax(z2)\n",
    "    return z1, a1, z2, a2\n"
   ]
  },
  {
   "cell_type": "code",
   "execution_count": 22,
   "id": "afaa0360",
   "metadata": {},
   "outputs": [
    {
     "name": "stdout",
     "output_type": "stream",
     "text": [
      "Output shape: (120, 3)\n",
      "First prediction (probabilities): [9.98033850e-01 1.25255025e-03 7.13599347e-04]\n"
     ]
    }
   ],
   "source": [
    "z1, a1, z2, y_pred = forward(X_train)\n",
    "print(\"Output shape:\", y_pred.shape)\n",
    "print(\"First prediction (probabilities):\", y_pred[0])\n"
   ]
  },
  {
   "cell_type": "code",
   "execution_count": 23,
   "id": "a50a0040",
   "metadata": {},
   "outputs": [],
   "source": [
    "def cross_entropy(y_true, y_pred):\n",
    "    epsilon = 1e-9\n",
    "    y_pred = np.clip(y_pred, epsilon, 1 - epsilon)\n",
    "    return -np.mean(np.sum(y_true * np.log(y_pred), axis=1))\n"
   ]
  },
  {
   "cell_type": "code",
   "execution_count": 24,
   "id": "1393955c",
   "metadata": {},
   "outputs": [],
   "source": [
    "def train(X, y, epochs, learning_rate):\n",
    "    global W1, b1, W2, b2\n",
    "    loss_history = []\n",
    "\n",
    "    for epoch in range(epochs):\n",
    "        z1 = np.dot(X, W1) + b1\n",
    "        a1 = relu(z1)\n",
    "\n",
    "        z2 = np.dot(a1, W2) + b2\n",
    "        a2 = softmax(z2)\n",
    "\n",
    "        loss = cross_entropy(y, a2)\n",
    "        loss_history.append(loss)\n",
    "\n",
    "       \n",
    "        dz2 = a2 - y                        \n",
    "        dW2 = np.dot(a1.T, dz2) / X.shape[0]\n",
    "        db2 = np.sum(dz2, axis=0, keepdims=True) / X.shape[0]\n",
    "\n",
    "     \n",
    "        da1 = np.dot(dz2, W2.T)\n",
    "        dz1 = da1 * relu_derivative(z1)\n",
    "        dW1 = np.dot(X.T, dz1) / X.shape[0]\n",
    "        db1 = np.sum(dz1, axis=0, keepdims=True) / X.shape[0]\n",
    "\n",
    "      \n",
    "        W1 -= learning_rate * dW1\n",
    "        b1 -= learning_rate * db1\n",
    "        W2 -= learning_rate * dW2\n",
    "        b2 -= learning_rate * db2\n",
    "\n",
    "      \n",
    "        if (epoch + 1) % 100 == 0 or epoch == 0:\n",
    "            print(f\"Epoch {epoch+1}/{epochs} - Loss: {loss:.4f}\")\n",
    "\n",
    "    return loss_history\n"
   ]
  },
  {
   "cell_type": "code",
   "execution_count": 25,
   "id": "6f8a1b14",
   "metadata": {},
   "outputs": [
    {
     "name": "stdout",
     "output_type": "stream",
     "text": [
      "Epoch 1/1000 - Loss: 1.2859\n",
      "Epoch 100/1000 - Loss: 0.3991\n",
      "Epoch 200/1000 - Loss: 0.2909\n",
      "Epoch 300/1000 - Loss: 0.2053\n",
      "Epoch 400/1000 - Loss: 0.1477\n",
      "Epoch 500/1000 - Loss: 0.1152\n",
      "Epoch 600/1000 - Loss: 0.0951\n",
      "Epoch 700/1000 - Loss: 0.0830\n",
      "Epoch 800/1000 - Loss: 0.0757\n",
      "Epoch 900/1000 - Loss: 0.0706\n",
      "Epoch 1000/1000 - Loss: 0.0669\n"
     ]
    }
   ],
   "source": [
    "losses = train(X_train, y_train, epochs=1000, learning_rate=0.1)\n"
   ]
  },
  {
   "cell_type": "code",
   "execution_count": 26,
   "id": "16ca1018",
   "metadata": {},
   "outputs": [
    {
     "data": {
      "image/png": "[encoded data removed]",
      "text/plain": [
       "<Figure size 640x480 with 1 Axes>"
      ]
     },
     "metadata": {},
     "output_type": "display_data"
    }
   ],
   "source": [
    "import matplotlib.pyplot as plt\n",
    "\n",
    "plt.plot(losses)\n",
    "plt.title(\"Loss over epochs\")\n",
    "plt.xlabel(\"Epoch\")\n",
    "plt.ylabel(\"Loss\")\n",
    "plt.grid(True)\n",
    "plt.show()\n"
   ]
  },
  {
   "cell_type": "code",
   "execution_count": 27,
   "id": "aabc10c6",
   "metadata": {},
   "outputs": [
    {
     "name": "stdout",
     "output_type": "stream",
     "text": [
      "Test Accuracy: 100.0 %\n"
     ]
    }
   ],
   "source": [
    "def predict(X):\n",
    "    _, a1, _, a2 = forward(X)\n",
    "    return np.argmax(a2, axis=1)\n",
    "\n",
    "\n",
    "y_pred_test = predict(X_test)\n",
    "y_true_test = np.argmax(y_test, axis=1)\n",
    "\n",
    "\n",
    "accuracy = np.mean(y_pred_test == y_true_test)\n",
    "print(\"Test Accuracy:\", round(accuracy * 100, 2), \"%\")\n"
   ]
  },
  {
   "cell_type": "code",
   "execution_count": 28,
   "id": "3c36f56a",
   "metadata": {},
   "outputs": [
    {
     "name": "stdout",
     "output_type": "stream",
     "text": [
      "Sample 1 → Predicted: 1, Actual: 1\n",
      "Sample 2 → Predicted: 0, Actual: 0\n",
      "Sample 3 → Predicted: 2, Actual: 2\n",
      "Sample 4 → Predicted: 1, Actual: 1\n",
      "Sample 5 → Predicted: 1, Actual: 1\n",
      "Sample 6 → Predicted: 0, Actual: 0\n",
      "Sample 7 → Predicted: 1, Actual: 1\n",
      "Sample 8 → Predicted: 2, Actual: 2\n",
      "Sample 9 → Predicted: 1, Actual: 1\n",
      "Sample 10 → Predicted: 1, Actual: 1\n"
     ]
    }
   ],
   "source": [
    "for i in range(10):\n",
    "    print(f\"Sample {i+1} → Predicted: {y_pred_test[i]}, Actual: {y_true_test[i]}\")\n"
   ]
  },
  {
   "cell_type": "code",
   "execution_count": 29,
   "id": "aa384d5c",
   "metadata": {},
   "outputs": [
    {
     "data": {
      "image/png": "[encoded data removed]",
      "text/plain": [
       "<Figure size 640x480 with 2 Axes>"
      ]
     },
     "metadata": {},
     "output_type": "display_data"
    }
   ],
   "source": [
    "from sklearn.metrics import confusion_matrix\n",
    "import seaborn as sns\n",
    "\n",
    "cm = confusion_matrix(y_true_test, y_pred_test)\n",
    "sns.heatmap(cm, annot=True, fmt='d', cmap='Blues', xticklabels=iris.target_names, yticklabels=iris.target_names)\n",
    "plt.xlabel(\"Predicted\")\n",
    "plt.ylabel(\"Actual\")\n",
    "plt.title(\"Confusion Matrix\")\n",
    "plt.show()\n"
   ]
  }
 ],
 "metadata": {
  "kernelspec": {
   "display_name": "myenv",
   "language": "python",
   "name": "python3"
  },
  "language_info": {
   "codemirror_mode": {
    "name": "ipython",
    "version": 3
   },
   "file_extension": ".py",
   "mimetype": "text/x-python",
   "name": "python",
   "nbconvert_exporter": "python",
   "pygments_lexer": "ipython3",
   "version": "3.11.13"
  }
 },
 "nbformat": 4,
 "nbformat_minor": 5
}
